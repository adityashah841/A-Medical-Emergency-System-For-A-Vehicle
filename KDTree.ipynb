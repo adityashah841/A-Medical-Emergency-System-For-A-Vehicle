{
  "nbformat": 4,
  "nbformat_minor": 0,
  "metadata": {
    "colab": {
      "provenance": [],
      "authorship_tag": "ABX9TyP9mR8upgnxvo5LIm+5FbHu",
      "include_colab_link": true
    },
    "kernelspec": {
      "name": "python3",
      "display_name": "Python 3"
    },
    "language_info": {
      "name": "python"
    }
  },
  "cells": [
    {
      "cell_type": "markdown",
      "metadata": {
        "id": "view-in-github",
        "colab_type": "text"
      },
      "source": [
        "<a href=\"https://colab.research.google.com/github/adityashah841/IPD/blob/main/KDTree.ipynb\" target=\"_parent\"><img src=\"https://colab.research.google.com/assets/colab-badge.svg\" alt=\"Open In Colab\"/></a>"
      ]
    },
    {
      "cell_type": "code",
      "source": [
        "import random\n",
        "import math\n",
        "\n",
        "class KDNode:\n",
        "    def __init__(self, point, split_dim, data=None, left=None, right=None):\n",
        "        self.point = point\n",
        "        self.split_dim = split_dim\n",
        "        self.data = data\n",
        "        self.left = left\n",
        "        self.right = right\n",
        "\n",
        "class KDTree:\n",
        "    def __init__(self, data=None):\n",
        "        self.root = None\n",
        "        if data:\n",
        "            self.build(data)\n",
        "    \n",
        "    def build(self, data):\n",
        "        def recursive_build(points, split_dim):\n",
        "            if not points:\n",
        "                return None\n",
        "            \n",
        "            points.sort(key=lambda x: x[0][split_dim])\n",
        "            mid = len(points) // 2\n",
        "            node = KDNode(points[mid][0], split_dim, points[mid][1])\n",
        "            \n",
        "            node.left = recursive_build(points[:mid], (split_dim + 1) % len(points[0][0]))\n",
        "            node.right = recursive_build(points[mid+1:], (split_dim + 1) % len(points[0][0]))\n",
        "            \n",
        "            return node\n",
        "        \n",
        "        self.root = recursive_build(data, 0)\n",
        "    \n",
        "    def find_closest_node(self, point):\n",
        "        closest_node = None\n",
        "        min_dist = math.inf\n",
        "        \n",
        "        def traverse(node):\n",
        "            nonlocal closest_node, min_dist\n",
        "            \n",
        "            if node is None:\n",
        "                return\n",
        "            \n",
        "            dist = distance(point, node.point)\n",
        "            \n",
        "            if dist < min_dist:\n",
        "                closest_node = node\n",
        "                min_dist = dist\n",
        "            \n",
        "            if point[node.split_dim] < node.point[node.split_dim]:\n",
        "                traverse(node.left)\n",
        "                if (point[node.split_dim] - min_dist) <= node.point[node.split_dim]:\n",
        "                    traverse(node.right)\n",
        "            else:\n",
        "                traverse(node.right)\n",
        "                if (point[node.split_dim] + min_dist) >= node.point[node.split_dim]:\n",
        "                    traverse(node.left)\n",
        "        \n",
        "        traverse(self.root)\n",
        "        return closest_node\n",
        "    \n",
        "def distance(p1, p2):\n",
        "    return math.sqrt(sum([(p1[i]-p2[i])**2 for i in range(len(p1))]))\n",
        "\n",
        "\n",
        "if __name__ == \"__main__\":\n",
        "    data = [((random.uniform(0, 10), random.uniform(0, 10)), random.randint(0, 9)) for i in range(10)]\n",
        "    \n",
        "    tree = KDTree(data)\n",
        "    \n",
        "    query_point = (5, 5)\n",
        "    closest_node = tree.find_closest_node(query_point)\n",
        "    print(\"Query point:\", query_point)\n",
        "    print(\"Closest point:\", closest_node.point)\n",
        "    print(\"Data associated with closest point:\", closest_node.data)\n"
      ],
      "metadata": {
        "colab": {
          "base_uri": "https://localhost:8080/"
        },
        "id": "_5K5iw4KYFNo",
        "outputId": "fb7190ef-ba3b-40e5-c121-a3fd02d7751c"
      },
      "execution_count": 5,
      "outputs": [
        {
          "output_type": "stream",
          "name": "stdout",
          "text": [
            "Query point: (5, 5)\n",
            "Closest point: (2.966830635592701, 6.654029452423585)\n",
            "Data associated with closest point: 5\n"
          ]
        }
      ]
    },
    {
      "cell_type": "code",
      "source": [
        "import pandas as pd"
      ],
      "metadata": {
        "id": "_jMATltoZEXC"
      },
      "execution_count": 6,
      "outputs": []
    },
    {
      "cell_type": "code",
      "source": [
        "df = pd.read_csv('/content/us_hospital_locations.csv')"
      ],
      "metadata": {
        "id": "oULeaCVKcpVt"
      },
      "execution_count": 27,
      "outputs": []
    },
    {
      "cell_type": "code",
      "source": [
        "df.columns"
      ],
      "metadata": {
        "colab": {
          "base_uri": "https://localhost:8080/"
        },
        "id": "zHk3Wj6YczJr",
        "outputId": "6e8bd7eb-e176-4cb7-c86f-05f66a9bd160"
      },
      "execution_count": 28,
      "outputs": [
        {
          "output_type": "execute_result",
          "data": {
            "text/plain": [
              "Index(['X', 'Y', 'FID', 'ID', 'NAME', 'ADDRESS', 'CITY', 'STATE', 'ZIP',\n",
              "       'ZIP4', 'TELEPHONE', 'TYPE', 'STATUS', 'POPULATION', 'COUNTY',\n",
              "       'COUNTYFIPS', 'COUNTRY', 'LATITUDE', 'LONGITUDE', 'NAICS_CODE',\n",
              "       'NAICS_DESC', 'SOURCE', 'SOURCEDATE', 'VAL_METHOD', 'VAL_DATE',\n",
              "       'WEBSITE', 'STATE_ID', 'ALT_NAME', 'ST_FIPS', 'OWNER', 'TTL_STAFF',\n",
              "       'BEDS', 'TRAUMA', 'HELIPAD'],\n",
              "      dtype='object')"
            ]
          },
          "metadata": {},
          "execution_count": 28
        }
      ]
    },
    {
      "cell_type": "code",
      "source": [
        "df2 = df.drop(['X', 'Y', 'FID', 'ADDRESS', 'CITY', 'STATE', 'ZIP', 'ZIP4', 'TYPE', 'STATUS',  'POPULATION', 'COUNTY',\n",
        "       'COUNTYFIPS', 'COUNTRY', 'NAICS_CODE',\n",
        "       'NAICS_DESC', 'SOURCE', 'SOURCEDATE', 'VAL_METHOD', 'VAL_DATE',\n",
        "       'WEBSITE', 'STATE_ID', 'ALT_NAME', 'ST_FIPS', 'OWNER', 'TTL_STAFF',\n",
        "       'BEDS', 'TRAUMA', 'HELIPAD'], axis = 1)"
      ],
      "metadata": {
        "id": "cenFsokcc1Cs"
      },
      "execution_count": 29,
      "outputs": []
    },
    {
      "cell_type": "code",
      "source": [
        "df2.columns"
      ],
      "metadata": {
        "colab": {
          "base_uri": "https://localhost:8080/"
        },
        "id": "TafCRTRyc5n6",
        "outputId": "689ed919-c7be-4a36-fd21-f7a0be33f659"
      },
      "execution_count": 30,
      "outputs": [
        {
          "output_type": "execute_result",
          "data": {
            "text/plain": [
              "Index(['ID', 'NAME', 'TELEPHONE', 'LATITUDE', 'LONGITUDE'], dtype='object')"
            ]
          },
          "metadata": {},
          "execution_count": 30
        }
      ]
    },
    {
      "cell_type": "code",
      "source": [
        "df2.head()"
      ],
      "metadata": {
        "colab": {
          "base_uri": "https://localhost:8080/",
          "height": 206
        },
        "id": "phP4bkILdv-s",
        "outputId": "70ee86a6-c9ef-4684-f1d7-720d4dbd516f"
      },
      "execution_count": 31,
      "outputs": [
        {
          "output_type": "execute_result",
          "data": {
            "text/plain": [
              "         ID                                               NAME  \\\n",
              "0   5793230                    CENTRAL VALLEY GENERAL HOSPITAL   \n",
              "1  53391362  LOS ROBLES HOSPITAL & MEDICAL CENTER - EAST CA...   \n",
              "2  11190023                  EAST LOS ANGELES DOCTORS HOSPITAL   \n",
              "3  17090028          SOUTHERN CALIFORNIA HOSPITAL AT HOLLYWOOD   \n",
              "4  23691706                      KINDRED HOSPITAL BALDWIN PARK   \n",
              "\n",
              "        TELEPHONE   LATITUDE   LONGITUDE  \n",
              "0   NOT AVAILABLE  36.336159 -119.645667  \n",
              "1   NOT AVAILABLE  34.154939 -118.815736  \n",
              "2   NOT AVAILABLE  34.023647 -118.184165  \n",
              "3  (323) 462-2271  34.096391 -118.325235  \n",
              "4   NOT AVAILABLE  34.063039 -117.967438  "
            ],
            "text/html": [
              "\n",
              "  <div id=\"df-e07e5344-bb61-404f-8fa5-c05e27abe29f\">\n",
              "    <div class=\"colab-df-container\">\n",
              "      <div>\n",
              "<style scoped>\n",
              "    .dataframe tbody tr th:only-of-type {\n",
              "        vertical-align: middle;\n",
              "    }\n",
              "\n",
              "    .dataframe tbody tr th {\n",
              "        vertical-align: top;\n",
              "    }\n",
              "\n",
              "    .dataframe thead th {\n",
              "        text-align: right;\n",
              "    }\n",
              "</style>\n",
              "<table border=\"1\" class=\"dataframe\">\n",
              "  <thead>\n",
              "    <tr style=\"text-align: right;\">\n",
              "      <th></th>\n",
              "      <th>ID</th>\n",
              "      <th>NAME</th>\n",
              "      <th>TELEPHONE</th>\n",
              "      <th>LATITUDE</th>\n",
              "      <th>LONGITUDE</th>\n",
              "    </tr>\n",
              "  </thead>\n",
              "  <tbody>\n",
              "    <tr>\n",
              "      <th>0</th>\n",
              "      <td>5793230</td>\n",
              "      <td>CENTRAL VALLEY GENERAL HOSPITAL</td>\n",
              "      <td>NOT AVAILABLE</td>\n",
              "      <td>36.336159</td>\n",
              "      <td>-119.645667</td>\n",
              "    </tr>\n",
              "    <tr>\n",
              "      <th>1</th>\n",
              "      <td>53391362</td>\n",
              "      <td>LOS ROBLES HOSPITAL &amp; MEDICAL CENTER - EAST CA...</td>\n",
              "      <td>NOT AVAILABLE</td>\n",
              "      <td>34.154939</td>\n",
              "      <td>-118.815736</td>\n",
              "    </tr>\n",
              "    <tr>\n",
              "      <th>2</th>\n",
              "      <td>11190023</td>\n",
              "      <td>EAST LOS ANGELES DOCTORS HOSPITAL</td>\n",
              "      <td>NOT AVAILABLE</td>\n",
              "      <td>34.023647</td>\n",
              "      <td>-118.184165</td>\n",
              "    </tr>\n",
              "    <tr>\n",
              "      <th>3</th>\n",
              "      <td>17090028</td>\n",
              "      <td>SOUTHERN CALIFORNIA HOSPITAL AT HOLLYWOOD</td>\n",
              "      <td>(323) 462-2271</td>\n",
              "      <td>34.096391</td>\n",
              "      <td>-118.325235</td>\n",
              "    </tr>\n",
              "    <tr>\n",
              "      <th>4</th>\n",
              "      <td>23691706</td>\n",
              "      <td>KINDRED HOSPITAL BALDWIN PARK</td>\n",
              "      <td>NOT AVAILABLE</td>\n",
              "      <td>34.063039</td>\n",
              "      <td>-117.967438</td>\n",
              "    </tr>\n",
              "  </tbody>\n",
              "</table>\n",
              "</div>\n",
              "      <button class=\"colab-df-convert\" onclick=\"convertToInteractive('df-e07e5344-bb61-404f-8fa5-c05e27abe29f')\"\n",
              "              title=\"Convert this dataframe to an interactive table.\"\n",
              "              style=\"display:none;\">\n",
              "        \n",
              "  <svg xmlns=\"http://www.w3.org/2000/svg\" height=\"24px\"viewBox=\"0 0 24 24\"\n",
              "       width=\"24px\">\n",
              "    <path d=\"M0 0h24v24H0V0z\" fill=\"none\"/>\n",
              "    <path d=\"M18.56 5.44l.94 2.06.94-2.06 2.06-.94-2.06-.94-.94-2.06-.94 2.06-2.06.94zm-11 1L8.5 8.5l.94-2.06 2.06-.94-2.06-.94L8.5 2.5l-.94 2.06-2.06.94zm10 10l.94 2.06.94-2.06 2.06-.94-2.06-.94-.94-2.06-.94 2.06-2.06.94z\"/><path d=\"M17.41 7.96l-1.37-1.37c-.4-.4-.92-.59-1.43-.59-.52 0-1.04.2-1.43.59L10.3 9.45l-7.72 7.72c-.78.78-.78 2.05 0 2.83L4 21.41c.39.39.9.59 1.41.59.51 0 1.02-.2 1.41-.59l7.78-7.78 2.81-2.81c.8-.78.8-2.07 0-2.86zM5.41 20L4 18.59l7.72-7.72 1.47 1.35L5.41 20z\"/>\n",
              "  </svg>\n",
              "      </button>\n",
              "      \n",
              "  <style>\n",
              "    .colab-df-container {\n",
              "      display:flex;\n",
              "      flex-wrap:wrap;\n",
              "      gap: 12px;\n",
              "    }\n",
              "\n",
              "    .colab-df-convert {\n",
              "      background-color: #E8F0FE;\n",
              "      border: none;\n",
              "      border-radius: 50%;\n",
              "      cursor: pointer;\n",
              "      display: none;\n",
              "      fill: #1967D2;\n",
              "      height: 32px;\n",
              "      padding: 0 0 0 0;\n",
              "      width: 32px;\n",
              "    }\n",
              "\n",
              "    .colab-df-convert:hover {\n",
              "      background-color: #E2EBFA;\n",
              "      box-shadow: 0px 1px 2px rgba(60, 64, 67, 0.3), 0px 1px 3px 1px rgba(60, 64, 67, 0.15);\n",
              "      fill: #174EA6;\n",
              "    }\n",
              "\n",
              "    [theme=dark] .colab-df-convert {\n",
              "      background-color: #3B4455;\n",
              "      fill: #D2E3FC;\n",
              "    }\n",
              "\n",
              "    [theme=dark] .colab-df-convert:hover {\n",
              "      background-color: #434B5C;\n",
              "      box-shadow: 0px 1px 3px 1px rgba(0, 0, 0, 0.15);\n",
              "      filter: drop-shadow(0px 1px 2px rgba(0, 0, 0, 0.3));\n",
              "      fill: #FFFFFF;\n",
              "    }\n",
              "  </style>\n",
              "\n",
              "      <script>\n",
              "        const buttonEl =\n",
              "          document.querySelector('#df-e07e5344-bb61-404f-8fa5-c05e27abe29f button.colab-df-convert');\n",
              "        buttonEl.style.display =\n",
              "          google.colab.kernel.accessAllowed ? 'block' : 'none';\n",
              "\n",
              "        async function convertToInteractive(key) {\n",
              "          const element = document.querySelector('#df-e07e5344-bb61-404f-8fa5-c05e27abe29f');\n",
              "          const dataTable =\n",
              "            await google.colab.kernel.invokeFunction('convertToInteractive',\n",
              "                                                     [key], {});\n",
              "          if (!dataTable) return;\n",
              "\n",
              "          const docLinkHtml = 'Like what you see? Visit the ' +\n",
              "            '<a target=\"_blank\" href=https://colab.research.google.com/notebooks/data_table.ipynb>data table notebook</a>'\n",
              "            + ' to learn more about interactive tables.';\n",
              "          element.innerHTML = '';\n",
              "          dataTable['output_type'] = 'display_data';\n",
              "          await google.colab.output.renderOutput(dataTable, element);\n",
              "          const docLink = document.createElement('div');\n",
              "          docLink.innerHTML = docLinkHtml;\n",
              "          element.appendChild(docLink);\n",
              "        }\n",
              "      </script>\n",
              "    </div>\n",
              "  </div>\n",
              "  "
            ]
          },
          "metadata": {},
          "execution_count": 31
        }
      ]
    },
    {
      "cell_type": "code",
      "source": [
        "df2.info()"
      ],
      "metadata": {
        "colab": {
          "base_uri": "https://localhost:8080/"
        },
        "id": "mH1R4MwUdyhW",
        "outputId": "2c78f716-8566-4a79-dc9a-bb3d84037243"
      },
      "execution_count": 32,
      "outputs": [
        {
          "output_type": "stream",
          "name": "stdout",
          "text": [
            "<class 'pandas.core.frame.DataFrame'>\n",
            "RangeIndex: 7596 entries, 0 to 7595\n",
            "Data columns (total 5 columns):\n",
            " #   Column     Non-Null Count  Dtype  \n",
            "---  ------     --------------  -----  \n",
            " 0   ID         7596 non-null   int64  \n",
            " 1   NAME       7596 non-null   object \n",
            " 2   TELEPHONE  7596 non-null   object \n",
            " 3   LATITUDE   7596 non-null   float64\n",
            " 4   LONGITUDE  7596 non-null   float64\n",
            "dtypes: float64(2), int64(1), object(2)\n",
            "memory usage: 296.8+ KB\n"
          ]
        }
      ]
    },
    {
      "cell_type": "code",
      "source": [
        "df2 = df2[df2['TELEPHONE']!='NOT AVAILABLE']"
      ],
      "metadata": {
        "id": "pmL8ltxCd24J"
      },
      "execution_count": 33,
      "outputs": []
    },
    {
      "cell_type": "code",
      "source": [
        "df2.info()"
      ],
      "metadata": {
        "colab": {
          "base_uri": "https://localhost:8080/"
        },
        "id": "43yNlPb4eaoR",
        "outputId": "3c8f3245-1a71-450a-b0b8-91dee3d137de"
      },
      "execution_count": 34,
      "outputs": [
        {
          "output_type": "stream",
          "name": "stdout",
          "text": [
            "<class 'pandas.core.frame.DataFrame'>\n",
            "Int64Index: 6554 entries, 3 to 7595\n",
            "Data columns (total 5 columns):\n",
            " #   Column     Non-Null Count  Dtype  \n",
            "---  ------     --------------  -----  \n",
            " 0   ID         6554 non-null   int64  \n",
            " 1   NAME       6554 non-null   object \n",
            " 2   TELEPHONE  6554 non-null   object \n",
            " 3   LATITUDE   6554 non-null   float64\n",
            " 4   LONGITUDE  6554 non-null   float64\n",
            "dtypes: float64(2), int64(1), object(2)\n",
            "memory usage: 307.2+ KB\n"
          ]
        }
      ]
    },
    {
      "cell_type": "code",
      "source": [
        "df2.head()"
      ],
      "metadata": {
        "colab": {
          "base_uri": "https://localhost:8080/",
          "height": 206
        },
        "id": "0i4iDjpiecSM",
        "outputId": "43f9815e-e379-4230-f067-e8cfde5a5a17"
      },
      "execution_count": 35,
      "outputs": [
        {
          "output_type": "execute_result",
          "data": {
            "text/plain": [
              "          ID                                       NAME       TELEPHONE  \\\n",
              "3   17090028  SOUTHERN CALIFORNIA HOSPITAL AT HOLLYWOOD  (323) 462-2271   \n",
              "12  12678414          CORPUS CHRISTI SPECIALTY HOSPITAL  (361) 888-4323   \n",
              "19   5870563                         DAUTERIVE HOSPITAL  (337) 365-7311   \n",
              "20  13177954                    CROCKETT MEDICAL CENTER  (936( 546-3891   \n",
              "21   4671360           CENTRAL LOUISIANA STATE HOSPITAL  (318) 484-6200   \n",
              "\n",
              "     LATITUDE   LONGITUDE  \n",
              "3   34.096391 -118.325235  \n",
              "12  27.778510  -97.396208  \n",
              "19  30.006907  -91.794524  \n",
              "20  31.323604  -95.438899  \n",
              "21  31.327379  -92.440135  "
            ],
            "text/html": [
              "\n",
              "  <div id=\"df-627fdb47-b452-4c08-b828-6354c44416d4\">\n",
              "    <div class=\"colab-df-container\">\n",
              "      <div>\n",
              "<style scoped>\n",
              "    .dataframe tbody tr th:only-of-type {\n",
              "        vertical-align: middle;\n",
              "    }\n",
              "\n",
              "    .dataframe tbody tr th {\n",
              "        vertical-align: top;\n",
              "    }\n",
              "\n",
              "    .dataframe thead th {\n",
              "        text-align: right;\n",
              "    }\n",
              "</style>\n",
              "<table border=\"1\" class=\"dataframe\">\n",
              "  <thead>\n",
              "    <tr style=\"text-align: right;\">\n",
              "      <th></th>\n",
              "      <th>ID</th>\n",
              "      <th>NAME</th>\n",
              "      <th>TELEPHONE</th>\n",
              "      <th>LATITUDE</th>\n",
              "      <th>LONGITUDE</th>\n",
              "    </tr>\n",
              "  </thead>\n",
              "  <tbody>\n",
              "    <tr>\n",
              "      <th>3</th>\n",
              "      <td>17090028</td>\n",
              "      <td>SOUTHERN CALIFORNIA HOSPITAL AT HOLLYWOOD</td>\n",
              "      <td>(323) 462-2271</td>\n",
              "      <td>34.096391</td>\n",
              "      <td>-118.325235</td>\n",
              "    </tr>\n",
              "    <tr>\n",
              "      <th>12</th>\n",
              "      <td>12678414</td>\n",
              "      <td>CORPUS CHRISTI SPECIALTY HOSPITAL</td>\n",
              "      <td>(361) 888-4323</td>\n",
              "      <td>27.778510</td>\n",
              "      <td>-97.396208</td>\n",
              "    </tr>\n",
              "    <tr>\n",
              "      <th>19</th>\n",
              "      <td>5870563</td>\n",
              "      <td>DAUTERIVE HOSPITAL</td>\n",
              "      <td>(337) 365-7311</td>\n",
              "      <td>30.006907</td>\n",
              "      <td>-91.794524</td>\n",
              "    </tr>\n",
              "    <tr>\n",
              "      <th>20</th>\n",
              "      <td>13177954</td>\n",
              "      <td>CROCKETT MEDICAL CENTER</td>\n",
              "      <td>(936( 546-3891</td>\n",
              "      <td>31.323604</td>\n",
              "      <td>-95.438899</td>\n",
              "    </tr>\n",
              "    <tr>\n",
              "      <th>21</th>\n",
              "      <td>4671360</td>\n",
              "      <td>CENTRAL LOUISIANA STATE HOSPITAL</td>\n",
              "      <td>(318) 484-6200</td>\n",
              "      <td>31.327379</td>\n",
              "      <td>-92.440135</td>\n",
              "    </tr>\n",
              "  </tbody>\n",
              "</table>\n",
              "</div>\n",
              "      <button class=\"colab-df-convert\" onclick=\"convertToInteractive('df-627fdb47-b452-4c08-b828-6354c44416d4')\"\n",
              "              title=\"Convert this dataframe to an interactive table.\"\n",
              "              style=\"display:none;\">\n",
              "        \n",
              "  <svg xmlns=\"http://www.w3.org/2000/svg\" height=\"24px\"viewBox=\"0 0 24 24\"\n",
              "       width=\"24px\">\n",
              "    <path d=\"M0 0h24v24H0V0z\" fill=\"none\"/>\n",
              "    <path d=\"M18.56 5.44l.94 2.06.94-2.06 2.06-.94-2.06-.94-.94-2.06-.94 2.06-2.06.94zm-11 1L8.5 8.5l.94-2.06 2.06-.94-2.06-.94L8.5 2.5l-.94 2.06-2.06.94zm10 10l.94 2.06.94-2.06 2.06-.94-2.06-.94-.94-2.06-.94 2.06-2.06.94z\"/><path d=\"M17.41 7.96l-1.37-1.37c-.4-.4-.92-.59-1.43-.59-.52 0-1.04.2-1.43.59L10.3 9.45l-7.72 7.72c-.78.78-.78 2.05 0 2.83L4 21.41c.39.39.9.59 1.41.59.51 0 1.02-.2 1.41-.59l7.78-7.78 2.81-2.81c.8-.78.8-2.07 0-2.86zM5.41 20L4 18.59l7.72-7.72 1.47 1.35L5.41 20z\"/>\n",
              "  </svg>\n",
              "      </button>\n",
              "      \n",
              "  <style>\n",
              "    .colab-df-container {\n",
              "      display:flex;\n",
              "      flex-wrap:wrap;\n",
              "      gap: 12px;\n",
              "    }\n",
              "\n",
              "    .colab-df-convert {\n",
              "      background-color: #E8F0FE;\n",
              "      border: none;\n",
              "      border-radius: 50%;\n",
              "      cursor: pointer;\n",
              "      display: none;\n",
              "      fill: #1967D2;\n",
              "      height: 32px;\n",
              "      padding: 0 0 0 0;\n",
              "      width: 32px;\n",
              "    }\n",
              "\n",
              "    .colab-df-convert:hover {\n",
              "      background-color: #E2EBFA;\n",
              "      box-shadow: 0px 1px 2px rgba(60, 64, 67, 0.3), 0px 1px 3px 1px rgba(60, 64, 67, 0.15);\n",
              "      fill: #174EA6;\n",
              "    }\n",
              "\n",
              "    [theme=dark] .colab-df-convert {\n",
              "      background-color: #3B4455;\n",
              "      fill: #D2E3FC;\n",
              "    }\n",
              "\n",
              "    [theme=dark] .colab-df-convert:hover {\n",
              "      background-color: #434B5C;\n",
              "      box-shadow: 0px 1px 3px 1px rgba(0, 0, 0, 0.15);\n",
              "      filter: drop-shadow(0px 1px 2px rgba(0, 0, 0, 0.3));\n",
              "      fill: #FFFFFF;\n",
              "    }\n",
              "  </style>\n",
              "\n",
              "      <script>\n",
              "        const buttonEl =\n",
              "          document.querySelector('#df-627fdb47-b452-4c08-b828-6354c44416d4 button.colab-df-convert');\n",
              "        buttonEl.style.display =\n",
              "          google.colab.kernel.accessAllowed ? 'block' : 'none';\n",
              "\n",
              "        async function convertToInteractive(key) {\n",
              "          const element = document.querySelector('#df-627fdb47-b452-4c08-b828-6354c44416d4');\n",
              "          const dataTable =\n",
              "            await google.colab.kernel.invokeFunction('convertToInteractive',\n",
              "                                                     [key], {});\n",
              "          if (!dataTable) return;\n",
              "\n",
              "          const docLinkHtml = 'Like what you see? Visit the ' +\n",
              "            '<a target=\"_blank\" href=https://colab.research.google.com/notebooks/data_table.ipynb>data table notebook</a>'\n",
              "            + ' to learn more about interactive tables.';\n",
              "          element.innerHTML = '';\n",
              "          dataTable['output_type'] = 'display_data';\n",
              "          await google.colab.output.renderOutput(dataTable, element);\n",
              "          const docLink = document.createElement('div');\n",
              "          docLink.innerHTML = docLinkHtml;\n",
              "          element.appendChild(docLink);\n",
              "        }\n",
              "      </script>\n",
              "    </div>\n",
              "  </div>\n",
              "  "
            ]
          },
          "metadata": {},
          "execution_count": 35
        }
      ]
    },
    {
      "cell_type": "code",
      "source": [
        "df2['DATA'] = df2['ID'].astype(str) + ', ' + df2['NAME'] + ', ' + df2['TELEPHONE']"
      ],
      "metadata": {
        "id": "vmuvGvNCeghK"
      },
      "execution_count": 36,
      "outputs": []
    },
    {
      "cell_type": "code",
      "source": [
        "df2.head()"
      ],
      "metadata": {
        "colab": {
          "base_uri": "https://localhost:8080/",
          "height": 206
        },
        "id": "P_FEmrffgpyP",
        "outputId": "08883049-b65f-4804-f552-636d0cba9838"
      },
      "execution_count": 37,
      "outputs": [
        {
          "output_type": "execute_result",
          "data": {
            "text/plain": [
              "          ID                                       NAME       TELEPHONE  \\\n",
              "3   17090028  SOUTHERN CALIFORNIA HOSPITAL AT HOLLYWOOD  (323) 462-2271   \n",
              "12  12678414          CORPUS CHRISTI SPECIALTY HOSPITAL  (361) 888-4323   \n",
              "19   5870563                         DAUTERIVE HOSPITAL  (337) 365-7311   \n",
              "20  13177954                    CROCKETT MEDICAL CENTER  (936( 546-3891   \n",
              "21   4671360           CENTRAL LOUISIANA STATE HOSPITAL  (318) 484-6200   \n",
              "\n",
              "     LATITUDE   LONGITUDE                                               DATA  \n",
              "3   34.096391 -118.325235  17090028, SOUTHERN CALIFORNIA HOSPITAL AT HOLL...  \n",
              "12  27.778510  -97.396208  12678414, CORPUS CHRISTI SPECIALTY HOSPITAL, (...  \n",
              "19  30.006907  -91.794524        5870563, DAUTERIVE HOSPITAL, (337) 365-7311  \n",
              "20  31.323604  -95.438899  13177954, CROCKETT MEDICAL CENTER, (936( 546-3891  \n",
              "21  31.327379  -92.440135  4671360, CENTRAL LOUISIANA STATE HOSPITAL, (31...  "
            ],
            "text/html": [
              "\n",
              "  <div id=\"df-724c22fa-1566-4cbc-9314-d5847134b55b\">\n",
              "    <div class=\"colab-df-container\">\n",
              "      <div>\n",
              "<style scoped>\n",
              "    .dataframe tbody tr th:only-of-type {\n",
              "        vertical-align: middle;\n",
              "    }\n",
              "\n",
              "    .dataframe tbody tr th {\n",
              "        vertical-align: top;\n",
              "    }\n",
              "\n",
              "    .dataframe thead th {\n",
              "        text-align: right;\n",
              "    }\n",
              "</style>\n",
              "<table border=\"1\" class=\"dataframe\">\n",
              "  <thead>\n",
              "    <tr style=\"text-align: right;\">\n",
              "      <th></th>\n",
              "      <th>ID</th>\n",
              "      <th>NAME</th>\n",
              "      <th>TELEPHONE</th>\n",
              "      <th>LATITUDE</th>\n",
              "      <th>LONGITUDE</th>\n",
              "      <th>DATA</th>\n",
              "    </tr>\n",
              "  </thead>\n",
              "  <tbody>\n",
              "    <tr>\n",
              "      <th>3</th>\n",
              "      <td>17090028</td>\n",
              "      <td>SOUTHERN CALIFORNIA HOSPITAL AT HOLLYWOOD</td>\n",
              "      <td>(323) 462-2271</td>\n",
              "      <td>34.096391</td>\n",
              "      <td>-118.325235</td>\n",
              "      <td>17090028, SOUTHERN CALIFORNIA HOSPITAL AT HOLL...</td>\n",
              "    </tr>\n",
              "    <tr>\n",
              "      <th>12</th>\n",
              "      <td>12678414</td>\n",
              "      <td>CORPUS CHRISTI SPECIALTY HOSPITAL</td>\n",
              "      <td>(361) 888-4323</td>\n",
              "      <td>27.778510</td>\n",
              "      <td>-97.396208</td>\n",
              "      <td>12678414, CORPUS CHRISTI SPECIALTY HOSPITAL, (...</td>\n",
              "    </tr>\n",
              "    <tr>\n",
              "      <th>19</th>\n",
              "      <td>5870563</td>\n",
              "      <td>DAUTERIVE HOSPITAL</td>\n",
              "      <td>(337) 365-7311</td>\n",
              "      <td>30.006907</td>\n",
              "      <td>-91.794524</td>\n",
              "      <td>5870563, DAUTERIVE HOSPITAL, (337) 365-7311</td>\n",
              "    </tr>\n",
              "    <tr>\n",
              "      <th>20</th>\n",
              "      <td>13177954</td>\n",
              "      <td>CROCKETT MEDICAL CENTER</td>\n",
              "      <td>(936( 546-3891</td>\n",
              "      <td>31.323604</td>\n",
              "      <td>-95.438899</td>\n",
              "      <td>13177954, CROCKETT MEDICAL CENTER, (936( 546-3891</td>\n",
              "    </tr>\n",
              "    <tr>\n",
              "      <th>21</th>\n",
              "      <td>4671360</td>\n",
              "      <td>CENTRAL LOUISIANA STATE HOSPITAL</td>\n",
              "      <td>(318) 484-6200</td>\n",
              "      <td>31.327379</td>\n",
              "      <td>-92.440135</td>\n",
              "      <td>4671360, CENTRAL LOUISIANA STATE HOSPITAL, (31...</td>\n",
              "    </tr>\n",
              "  </tbody>\n",
              "</table>\n",
              "</div>\n",
              "      <button class=\"colab-df-convert\" onclick=\"convertToInteractive('df-724c22fa-1566-4cbc-9314-d5847134b55b')\"\n",
              "              title=\"Convert this dataframe to an interactive table.\"\n",
              "              style=\"display:none;\">\n",
              "        \n",
              "  <svg xmlns=\"http://www.w3.org/2000/svg\" height=\"24px\"viewBox=\"0 0 24 24\"\n",
              "       width=\"24px\">\n",
              "    <path d=\"M0 0h24v24H0V0z\" fill=\"none\"/>\n",
              "    <path d=\"M18.56 5.44l.94 2.06.94-2.06 2.06-.94-2.06-.94-.94-2.06-.94 2.06-2.06.94zm-11 1L8.5 8.5l.94-2.06 2.06-.94-2.06-.94L8.5 2.5l-.94 2.06-2.06.94zm10 10l.94 2.06.94-2.06 2.06-.94-2.06-.94-.94-2.06-.94 2.06-2.06.94z\"/><path d=\"M17.41 7.96l-1.37-1.37c-.4-.4-.92-.59-1.43-.59-.52 0-1.04.2-1.43.59L10.3 9.45l-7.72 7.72c-.78.78-.78 2.05 0 2.83L4 21.41c.39.39.9.59 1.41.59.51 0 1.02-.2 1.41-.59l7.78-7.78 2.81-2.81c.8-.78.8-2.07 0-2.86zM5.41 20L4 18.59l7.72-7.72 1.47 1.35L5.41 20z\"/>\n",
              "  </svg>\n",
              "      </button>\n",
              "      \n",
              "  <style>\n",
              "    .colab-df-container {\n",
              "      display:flex;\n",
              "      flex-wrap:wrap;\n",
              "      gap: 12px;\n",
              "    }\n",
              "\n",
              "    .colab-df-convert {\n",
              "      background-color: #E8F0FE;\n",
              "      border: none;\n",
              "      border-radius: 50%;\n",
              "      cursor: pointer;\n",
              "      display: none;\n",
              "      fill: #1967D2;\n",
              "      height: 32px;\n",
              "      padding: 0 0 0 0;\n",
              "      width: 32px;\n",
              "    }\n",
              "\n",
              "    .colab-df-convert:hover {\n",
              "      background-color: #E2EBFA;\n",
              "      box-shadow: 0px 1px 2px rgba(60, 64, 67, 0.3), 0px 1px 3px 1px rgba(60, 64, 67, 0.15);\n",
              "      fill: #174EA6;\n",
              "    }\n",
              "\n",
              "    [theme=dark] .colab-df-convert {\n",
              "      background-color: #3B4455;\n",
              "      fill: #D2E3FC;\n",
              "    }\n",
              "\n",
              "    [theme=dark] .colab-df-convert:hover {\n",
              "      background-color: #434B5C;\n",
              "      box-shadow: 0px 1px 3px 1px rgba(0, 0, 0, 0.15);\n",
              "      filter: drop-shadow(0px 1px 2px rgba(0, 0, 0, 0.3));\n",
              "      fill: #FFFFFF;\n",
              "    }\n",
              "  </style>\n",
              "\n",
              "      <script>\n",
              "        const buttonEl =\n",
              "          document.querySelector('#df-724c22fa-1566-4cbc-9314-d5847134b55b button.colab-df-convert');\n",
              "        buttonEl.style.display =\n",
              "          google.colab.kernel.accessAllowed ? 'block' : 'none';\n",
              "\n",
              "        async function convertToInteractive(key) {\n",
              "          const element = document.querySelector('#df-724c22fa-1566-4cbc-9314-d5847134b55b');\n",
              "          const dataTable =\n",
              "            await google.colab.kernel.invokeFunction('convertToInteractive',\n",
              "                                                     [key], {});\n",
              "          if (!dataTable) return;\n",
              "\n",
              "          const docLinkHtml = 'Like what you see? Visit the ' +\n",
              "            '<a target=\"_blank\" href=https://colab.research.google.com/notebooks/data_table.ipynb>data table notebook</a>'\n",
              "            + ' to learn more about interactive tables.';\n",
              "          element.innerHTML = '';\n",
              "          dataTable['output_type'] = 'display_data';\n",
              "          await google.colab.output.renderOutput(dataTable, element);\n",
              "          const docLink = document.createElement('div');\n",
              "          docLink.innerHTML = docLinkHtml;\n",
              "          element.appendChild(docLink);\n",
              "        }\n",
              "      </script>\n",
              "    </div>\n",
              "  </div>\n",
              "  "
            ]
          },
          "metadata": {},
          "execution_count": 37
        }
      ]
    },
    {
      "cell_type": "code",
      "source": [
        "df2.drop(['ID', 'NAME', 'TELEPHONE'], axis=1, inplace=True)"
      ],
      "metadata": {
        "id": "X0R7H6Jfgxnj"
      },
      "execution_count": 39,
      "outputs": []
    },
    {
      "cell_type": "code",
      "source": [
        "df2.head()"
      ],
      "metadata": {
        "colab": {
          "base_uri": "https://localhost:8080/",
          "height": 206
        },
        "id": "-XR8U89Tg3Kk",
        "outputId": "4a72fa4e-2ede-4438-d441-8f767ca4ceb6"
      },
      "execution_count": 40,
      "outputs": [
        {
          "output_type": "execute_result",
          "data": {
            "text/plain": [
              "     LATITUDE   LONGITUDE                                               DATA\n",
              "3   34.096391 -118.325235  17090028, SOUTHERN CALIFORNIA HOSPITAL AT HOLL...\n",
              "12  27.778510  -97.396208  12678414, CORPUS CHRISTI SPECIALTY HOSPITAL, (...\n",
              "19  30.006907  -91.794524        5870563, DAUTERIVE HOSPITAL, (337) 365-7311\n",
              "20  31.323604  -95.438899  13177954, CROCKETT MEDICAL CENTER, (936( 546-3891\n",
              "21  31.327379  -92.440135  4671360, CENTRAL LOUISIANA STATE HOSPITAL, (31..."
            ],
            "text/html": [
              "\n",
              "  <div id=\"df-abc21c9d-bfc4-4bec-9513-9e082b136d5d\">\n",
              "    <div class=\"colab-df-container\">\n",
              "      <div>\n",
              "<style scoped>\n",
              "    .dataframe tbody tr th:only-of-type {\n",
              "        vertical-align: middle;\n",
              "    }\n",
              "\n",
              "    .dataframe tbody tr th {\n",
              "        vertical-align: top;\n",
              "    }\n",
              "\n",
              "    .dataframe thead th {\n",
              "        text-align: right;\n",
              "    }\n",
              "</style>\n",
              "<table border=\"1\" class=\"dataframe\">\n",
              "  <thead>\n",
              "    <tr style=\"text-align: right;\">\n",
              "      <th></th>\n",
              "      <th>LATITUDE</th>\n",
              "      <th>LONGITUDE</th>\n",
              "      <th>DATA</th>\n",
              "    </tr>\n",
              "  </thead>\n",
              "  <tbody>\n",
              "    <tr>\n",
              "      <th>3</th>\n",
              "      <td>34.096391</td>\n",
              "      <td>-118.325235</td>\n",
              "      <td>17090028, SOUTHERN CALIFORNIA HOSPITAL AT HOLL...</td>\n",
              "    </tr>\n",
              "    <tr>\n",
              "      <th>12</th>\n",
              "      <td>27.778510</td>\n",
              "      <td>-97.396208</td>\n",
              "      <td>12678414, CORPUS CHRISTI SPECIALTY HOSPITAL, (...</td>\n",
              "    </tr>\n",
              "    <tr>\n",
              "      <th>19</th>\n",
              "      <td>30.006907</td>\n",
              "      <td>-91.794524</td>\n",
              "      <td>5870563, DAUTERIVE HOSPITAL, (337) 365-7311</td>\n",
              "    </tr>\n",
              "    <tr>\n",
              "      <th>20</th>\n",
              "      <td>31.323604</td>\n",
              "      <td>-95.438899</td>\n",
              "      <td>13177954, CROCKETT MEDICAL CENTER, (936( 546-3891</td>\n",
              "    </tr>\n",
              "    <tr>\n",
              "      <th>21</th>\n",
              "      <td>31.327379</td>\n",
              "      <td>-92.440135</td>\n",
              "      <td>4671360, CENTRAL LOUISIANA STATE HOSPITAL, (31...</td>\n",
              "    </tr>\n",
              "  </tbody>\n",
              "</table>\n",
              "</div>\n",
              "      <button class=\"colab-df-convert\" onclick=\"convertToInteractive('df-abc21c9d-bfc4-4bec-9513-9e082b136d5d')\"\n",
              "              title=\"Convert this dataframe to an interactive table.\"\n",
              "              style=\"display:none;\">\n",
              "        \n",
              "  <svg xmlns=\"http://www.w3.org/2000/svg\" height=\"24px\"viewBox=\"0 0 24 24\"\n",
              "       width=\"24px\">\n",
              "    <path d=\"M0 0h24v24H0V0z\" fill=\"none\"/>\n",
              "    <path d=\"M18.56 5.44l.94 2.06.94-2.06 2.06-.94-2.06-.94-.94-2.06-.94 2.06-2.06.94zm-11 1L8.5 8.5l.94-2.06 2.06-.94-2.06-.94L8.5 2.5l-.94 2.06-2.06.94zm10 10l.94 2.06.94-2.06 2.06-.94-2.06-.94-.94-2.06-.94 2.06-2.06.94z\"/><path d=\"M17.41 7.96l-1.37-1.37c-.4-.4-.92-.59-1.43-.59-.52 0-1.04.2-1.43.59L10.3 9.45l-7.72 7.72c-.78.78-.78 2.05 0 2.83L4 21.41c.39.39.9.59 1.41.59.51 0 1.02-.2 1.41-.59l7.78-7.78 2.81-2.81c.8-.78.8-2.07 0-2.86zM5.41 20L4 18.59l7.72-7.72 1.47 1.35L5.41 20z\"/>\n",
              "  </svg>\n",
              "      </button>\n",
              "      \n",
              "  <style>\n",
              "    .colab-df-container {\n",
              "      display:flex;\n",
              "      flex-wrap:wrap;\n",
              "      gap: 12px;\n",
              "    }\n",
              "\n",
              "    .colab-df-convert {\n",
              "      background-color: #E8F0FE;\n",
              "      border: none;\n",
              "      border-radius: 50%;\n",
              "      cursor: pointer;\n",
              "      display: none;\n",
              "      fill: #1967D2;\n",
              "      height: 32px;\n",
              "      padding: 0 0 0 0;\n",
              "      width: 32px;\n",
              "    }\n",
              "\n",
              "    .colab-df-convert:hover {\n",
              "      background-color: #E2EBFA;\n",
              "      box-shadow: 0px 1px 2px rgba(60, 64, 67, 0.3), 0px 1px 3px 1px rgba(60, 64, 67, 0.15);\n",
              "      fill: #174EA6;\n",
              "    }\n",
              "\n",
              "    [theme=dark] .colab-df-convert {\n",
              "      background-color: #3B4455;\n",
              "      fill: #D2E3FC;\n",
              "    }\n",
              "\n",
              "    [theme=dark] .colab-df-convert:hover {\n",
              "      background-color: #434B5C;\n",
              "      box-shadow: 0px 1px 3px 1px rgba(0, 0, 0, 0.15);\n",
              "      filter: drop-shadow(0px 1px 2px rgba(0, 0, 0, 0.3));\n",
              "      fill: #FFFFFF;\n",
              "    }\n",
              "  </style>\n",
              "\n",
              "      <script>\n",
              "        const buttonEl =\n",
              "          document.querySelector('#df-abc21c9d-bfc4-4bec-9513-9e082b136d5d button.colab-df-convert');\n",
              "        buttonEl.style.display =\n",
              "          google.colab.kernel.accessAllowed ? 'block' : 'none';\n",
              "\n",
              "        async function convertToInteractive(key) {\n",
              "          const element = document.querySelector('#df-abc21c9d-bfc4-4bec-9513-9e082b136d5d');\n",
              "          const dataTable =\n",
              "            await google.colab.kernel.invokeFunction('convertToInteractive',\n",
              "                                                     [key], {});\n",
              "          if (!dataTable) return;\n",
              "\n",
              "          const docLinkHtml = 'Like what you see? Visit the ' +\n",
              "            '<a target=\"_blank\" href=https://colab.research.google.com/notebooks/data_table.ipynb>data table notebook</a>'\n",
              "            + ' to learn more about interactive tables.';\n",
              "          element.innerHTML = '';\n",
              "          dataTable['output_type'] = 'display_data';\n",
              "          await google.colab.output.renderOutput(dataTable, element);\n",
              "          const docLink = document.createElement('div');\n",
              "          docLink.innerHTML = docLinkHtml;\n",
              "          element.appendChild(docLink);\n",
              "        }\n",
              "      </script>\n",
              "    </div>\n",
              "  </div>\n",
              "  "
            ]
          },
          "metadata": {},
          "execution_count": 40
        }
      ]
    },
    {
      "cell_type": "code",
      "source": [
        "len(df2)"
      ],
      "metadata": {
        "colab": {
          "base_uri": "https://localhost:8080/"
        },
        "id": "TxjSRlHdhrGL",
        "outputId": "39464034-dbcf-4fe8-d6a0-aaf3342776d2"
      },
      "execution_count": 41,
      "outputs": [
        {
          "output_type": "execute_result",
          "data": {
            "text/plain": [
              "6554"
            ]
          },
          "metadata": {},
          "execution_count": 41
        }
      ]
    },
    {
      "cell_type": "code",
      "source": [
        "df2.iloc(0)[1]['LATITUDE']"
      ],
      "metadata": {
        "colab": {
          "base_uri": "https://localhost:8080/"
        },
        "id": "3IDLG3GliMSd",
        "outputId": "278f286d-1fde-42d1-c05f-51cf6d708523"
      },
      "execution_count": 51,
      "outputs": [
        {
          "output_type": "execute_result",
          "data": {
            "text/plain": [
              "27.778510168"
            ]
          },
          "metadata": {},
          "execution_count": 51
        }
      ]
    },
    {
      "cell_type": "code",
      "source": [
        "df2.iloc(0)[0]['DATA']"
      ],
      "metadata": {
        "colab": {
          "base_uri": "https://localhost:8080/",
          "height": 36
        },
        "id": "-vzs-lWIiuu6",
        "outputId": "cad7b1a1-5fc2-4281-bde0-134b99a04882"
      },
      "execution_count": 55,
      "outputs": [
        {
          "output_type": "execute_result",
          "data": {
            "text/plain": [
              "'17090028, SOUTHERN CALIFORNIA HOSPITAL AT HOLLYWOOD, (323) 462-2271'"
            ],
            "application/vnd.google.colaboratory.intrinsic+json": {
              "type": "string"
            }
          },
          "metadata": {},
          "execution_count": 55
        }
      ]
    },
    {
      "cell_type": "code",
      "source": [
        "data = [((df2.iloc(0)[i]['LATITUDE'], df2.iloc(0)[i]['LONGITUDE']), df2.iloc(0)[i]['DATA']) for i in range(len(df2))]"
      ],
      "metadata": {
        "id": "xpWJD2Zdh_Zc"
      },
      "execution_count": 56,
      "outputs": []
    },
    {
      "cell_type": "code",
      "source": [
        "tree = KDTree(data)"
      ],
      "metadata": {
        "id": "F5v0xpmrjQlR"
      },
      "execution_count": 57,
      "outputs": []
    },
    {
      "cell_type": "code",
      "source": [
        "import pickle\n",
        "\n",
        "with open('tree.pickle', 'wb') as f:\n",
        "    pickle.dump(tree, f)"
      ],
      "metadata": {
        "id": "qDNqeb2vjXM-"
      },
      "execution_count": 58,
      "outputs": []
    },
    {
      "cell_type": "code",
      "source": [
        "with open('tree.pickle', 'rb') as f:\n",
        "    loaded_tree = pickle.load(f)"
      ],
      "metadata": {
        "id": "5rc293aCjsa0"
      },
      "execution_count": 59,
      "outputs": []
    },
    {
      "cell_type": "code",
      "source": [
        "loaded_tree.find_closest_node((112,123)).point"
      ],
      "metadata": {
        "colab": {
          "base_uri": "https://localhost:8080/"
        },
        "id": "woCTA-WUk4h3",
        "outputId": "60470141-e80d-460e-dc2b-c25b1757da89"
      },
      "execution_count": 61,
      "outputs": [
        {
          "output_type": "execute_result",
          "data": {
            "text/plain": [
              "(15.211634437, 145.724472394)"
            ]
          },
          "metadata": {},
          "execution_count": 61
        }
      ]
    },
    {
      "cell_type": "code",
      "source": [],
      "metadata": {
        "id": "_8uE2vcwlAwt"
      },
      "execution_count": null,
      "outputs": []
    }
  ]
}